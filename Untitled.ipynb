{
 "cells": [
  {
   "cell_type": "code",
   "execution_count": 5,
   "id": "e04e0b75",
   "metadata": {},
   "outputs": [],
   "source": [
    "import cv2\n",
    "import numpy as np"
   ]
  },
  {
   "cell_type": "code",
   "execution_count": 9,
   "id": "21b5560b",
   "metadata": {},
   "outputs": [
    {
     "data": {
      "text/plain": [
       "array([[[ 4.235     ,  4.235     ,  0.        ],\n",
       "        [ 8.47000013,  4.235     ,  0.        ],\n",
       "        [12.70500027,  4.235     ,  0.        ],\n",
       "        [16.93999992,  4.235     ,  0.        ],\n",
       "        [21.17500053,  4.235     ,  0.        ],\n",
       "        [25.41000114,  4.235     ,  0.        ],\n",
       "        [ 4.235     ,  8.47000013,  0.        ],\n",
       "        [ 8.47000013,  8.47000013,  0.        ],\n",
       "        [12.70500027,  8.47000013,  0.        ],\n",
       "        [16.93999992,  8.47000013,  0.        ],\n",
       "        [21.17500053,  8.47000013,  0.        ],\n",
       "        [25.41000114,  8.47000013,  0.        ],\n",
       "        [ 4.235     , 12.70500027,  0.        ],\n",
       "        [ 8.47000013, 12.70500027,  0.        ],\n",
       "        [12.70500027, 12.70500027,  0.        ],\n",
       "        [16.93999992, 12.70500027,  0.        ],\n",
       "        [21.17500053, 12.70500027,  0.        ],\n",
       "        [25.41000114, 12.70500027,  0.        ],\n",
       "        [ 4.235     , 16.93999992,  0.        ],\n",
       "        [ 8.47000013, 16.93999992,  0.        ],\n",
       "        [12.70500027, 16.93999992,  0.        ],\n",
       "        [16.93999992, 16.93999992,  0.        ],\n",
       "        [21.17500053, 16.93999992,  0.        ],\n",
       "        [25.41000114, 16.93999992,  0.        ],\n",
       "        [ 4.235     , 21.17500053,  0.        ],\n",
       "        [ 8.47000013, 21.17500053,  0.        ],\n",
       "        [12.70500027, 21.17500053,  0.        ],\n",
       "        [16.93999992, 21.17500053,  0.        ],\n",
       "        [21.17500053, 21.17500053,  0.        ],\n",
       "        [25.41000114, 21.17500053,  0.        ],\n",
       "        [ 4.235     , 25.41000114,  0.        ],\n",
       "        [ 8.47000013, 25.41000114,  0.        ],\n",
       "        [12.70500027, 25.41000114,  0.        ],\n",
       "        [16.93999992, 25.41000114,  0.        ],\n",
       "        [21.17500053, 25.41000114,  0.        ],\n",
       "        [25.41000114, 25.41000114,  0.        ],\n",
       "        [ 4.235     , 29.64499985,  0.        ],\n",
       "        [ 8.47000013, 29.64499985,  0.        ],\n",
       "        [12.70500027, 29.64499985,  0.        ],\n",
       "        [16.93999992, 29.64499985,  0.        ],\n",
       "        [21.17500053, 29.64499985,  0.        ],\n",
       "        [25.41000114, 29.64499985,  0.        ]]])"
      ]
     },
     "execution_count": 9,
     "metadata": {},
     "output_type": "execute_result"
    }
   ],
   "source": [
    "# ref_image = cv2.imread('./circles/Left_10.png',0)\n",
    "\n",
    "CHECKERBOARD = (6,7)\n",
    "criteria = (cv2.TERM_CRITERIA_EPS + cv2.TERM_CRITERIA_MAX_ITER, 30, 0.001)\n",
    "\n",
    "objpoints = []\n",
    "imgpoints = [] \n",
    "\n",
    "objp = np.zeros((1, CHECKERBOARD[0] * CHECKERBOARD[1], 3), np.float32)\n",
    "objp[0,:,:2] = np.mgrid[0:CHECKERBOARD[0], 0:CHECKERBOARD[1]].T.reshape(-1, 2)\n",
    "prev_img_shape = None\n",
    "objp = objp*4.235 + [4.235, 4.235, 0]\n",
    "objp"
   ]
  },
  {
   "cell_type": "code",
   "execution_count": null,
   "id": "5c59e254",
   "metadata": {},
   "outputs": [],
   "source": [
    "images = glob.glob('./cropped_images/*.png')\n",
    "for fname in images:\n",
    "    img = cv2.imread(fname)\n",
    "    gray = cv2.cvtColor(img,cv2.COLOR_BGR2GRAY)\n",
    "    ret, corners = cv2.findChessboardCorners(img, CHECKERBOARD, cv2.CALIB_CB_ADAPTIVE_THRESH + cv2.CALIB_CB_FAST_CHECK + cv2.CALIB_CB_NORMALIZE_IMAGE)\n",
    "    \n",
    "    print(ret)\n",
    "    \"\"\"\n",
    "    If desired number of corner are detected,\n",
    "    we refine the pixel coordinates and display \n",
    "    them on the images of checker board\n",
    "    \"\"\"\n",
    "    if ret == True:\n",
    "        objpoints.append(objp)\n",
    "        # refining pixel coordinates for given 2d points.\n",
    "        corners2 = cv2.cornerSubPix(res, corners, (11,11),(-1,-1), criteria)\n",
    "         \n",
    "        imgpoints.append(corners2)\n",
    " \n",
    "        # Draw and display the corners\n",
    "        img = cv2.drawChessboardCorners(img, CHECKERBOARD, corners2, ret)\n",
    "        \n",
    "        cv2.imshow('img', img)\n",
    "#         cv2.waitKey(0)\n",
    "\n",
    "#         cv2.destroyAllWindows()"
   ]
  },
  {
   "cell_type": "code",
   "execution_count": null,
   "id": "8a04aacf",
   "metadata": {},
   "outputs": [],
   "source": [
    " \"\"\"\n",
    "        Performing camera calibration by \n",
    "        passing the value of known 3D points (objpoints)\n",
    "        and corresponding pixel coordinates of the \n",
    "        detected corners (imgpoints)\n",
    "        \"\"\"\n",
    "ret, mtx, dist, rvecs, tvecs = cv2.calibrateCamera(objpoints, imgpoints, ref_gray.shape[::-1], None, None)\n",
    "\n",
    "print(\" \")\n",
    "print(\"Recalibration error : \\n\")\n",
    "print(ret)\n",
    "print(\"Camera matrix : \\n\")\n",
    "print(mtx)\n",
    "print(\"dist : \\n\")\n",
    "print(dist)\n",
    "print(\"rvecs : \\n\")\n",
    "print(rvecs)\n",
    "print(\"tvecs : \\n\")\n",
    "print(tvecs)"
   ]
  },
  {
   "cell_type": "code",
   "execution_count": null,
   "id": "ab776414",
   "metadata": {},
   "outputs": [],
   "source": [
    "#undistortion\n",
    "img = cv2.imread('./circles/Left_10.png')\n",
    "h,  w = img.shape[:2]\n",
    "newcameramtx, roi = cv2.getOptimalNewCameraMatrix(mtx, dist, (w,h), 1, (w,h))\n",
    "mapx, mapy = cv2.initUndistortRectifyMap(mtx, dist, None, newcameramtx, (w,h), 5)\n",
    "\n",
    "# undistort\n",
    "dst = cv2.remap(img, mapx, mapy, cv2.INTER_LINEAR)\n",
    "\n",
    "# crop the image\n",
    "x, y, w, h = roi\n",
    "dst = dst[y:y+h, x:x+w]\n",
    "cv2.imwrite('calibresultl.png', dst)\n",
    "\n",
    "#reprojection error\n",
    "mean_error = 0\n",
    "for i in range(len(objpoints)):\n",
    "    imgpoints2, _ = cv2.projectPoints(objpoints[i], rvecs[i], tvecs[i], mtx, dist)\n",
    "    error = cv2.norm(imgpoints[i], imgpoints2, cv2.NORM_L2)/len(imgpoints2)\n",
    "    mean_error += error\n",
    "print( \"total error: {}\".format(mean_error/len(objpoints)) )"
   ]
  }
 ],
 "metadata": {
  "kernelspec": {
   "display_name": "Python 3 (ipykernel)",
   "language": "python",
   "name": "python3"
  },
  "language_info": {
   "codemirror_mode": {
    "name": "ipython",
    "version": 3
   },
   "file_extension": ".py",
   "mimetype": "text/x-python",
   "name": "python",
   "nbconvert_exporter": "python",
   "pygments_lexer": "ipython3",
   "version": "3.9.12"
  }
 },
 "nbformat": 4,
 "nbformat_minor": 5
}
